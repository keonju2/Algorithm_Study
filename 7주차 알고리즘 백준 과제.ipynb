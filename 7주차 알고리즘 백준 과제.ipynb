{
 "cells": [
  {
   "cell_type": "markdown",
   "metadata": {},
   "source": [
    "## 깊이 우선 탐색\n",
    "\n",
    "<https://www.acmicpc.net/problemset?sort=ac_desc&algo=127>\n",
    "\n",
    "깊이 우선 탐색은 1) 여러 경우의 수 중 하나를 선택, 2) 선택 후 가능한 여러 경우의 수 중 또 하나를 선택 하는 식으로 매 단계에서 가능한 것 중 일단 하나를 선택해 끝을 볼 때까지 깊게 들어갑니다.  \n",
    "\n",
    "스택과 큐를 이용하여 탐색합니다.  \n",
    "\n",
    "시간 복잡도  \n",
    "노드 수: V\n",
    "간선 수: E\n",
    "시간 복잡도: O(V+E)  \n",
    "\n"
   ]
  },
  {
   "cell_type": "markdown",
   "metadata": {},
   "source": [
    "## 4963번 섬의 개수\n",
    "\n",
    "<https://www.acmicpc.net/problem/4963>  \n",
    "\n"
   ]
  },
  {
   "cell_type": "code",
   "execution_count": 15,
   "metadata": {},
   "outputs": [
    {
     "name": "stdout",
     "output_type": "stream",
     "text": [
      "1 1\n",
      "0\n",
      "0\n",
      "2 2\n",
      "0 1\n",
      "1 0\n",
      "1\n",
      "3 2\n",
      "1 1 1\n",
      "1 1 1\n",
      "1\n",
      "5 4\n",
      "1 0 1 0 0\n",
      "1 0 0 0 0\n",
      "1 0 1 0 1\n",
      "1 0 0 1 0\n",
      "3\n",
      "5 4\n",
      "1 1 1 0 1\n",
      "1 0 1 0 1\n",
      "1 0 1 0 1\n",
      "1 0 1 1 1\n",
      "1\n",
      "5 5\n",
      "1 0 1 0 1\n",
      "0 0 0 0 0\n",
      "1 0 1 0 1\n",
      "0 0 0 0 0\n",
      "1 0 1 0 1\n",
      "9\n",
      "0 0\n"
     ]
    }
   ],
   "source": [
    "while True:\n",
    "    w,h=map(int,input().split())\n",
    "    if w==0 & h==0: # 정지 조건\n",
    "        break\n",
    "    \n",
    "    \n",
    "    test_map=[] # 지도 만들기\n",
    "    for i in range(h):\n",
    "        row_input=list(map(int,input().split()))\n",
    "        test_map.append(row_input)\n",
    "    \n",
    "    dx = [-1, -1, 0, 1, 1, 1, 0, -1] # -1이면 앞, 1이면 뒤에 \n",
    "    dy = [0, 1, 1, 1, 0, -1, -1, -1] # 1이면 아래 0 이면 같은 층 -1이면 위에 층 (중복해서 계산하지 않도록 2로 바꿔주기)\n",
    "    # ex dx=-1,dy=0 => 앞에 칸, dx=1,dy=1 => 오른쪽 아래 칸\n",
    "    que=[]\n",
    "    count=0 # 섬의 개수 count\n",
    "    for j in range(h):\n",
    "        for k in range(w):\n",
    "            if test_map[j][k] ==1: #처음 시작 육지\n",
    "                que.append((j,k)) #육지에 방문하면 좌표 표시\n",
    "                test_map[j][k]=2 # 방문한 곳은 2로 표시\n",
    "                \n",
    "                while que:\n",
    "                    x,y=que[0]# 방문한 곳 출력\n",
    "                    que.pop(0)\n",
    "                    for l in range(8): #방향 탐색\n",
    "                        x_=x+dx[l]\n",
    "                        y_=y+dy[l]\n",
    "                        if 0<=x_<h and 0<=y_<w:#땅 안에 있어야한다.\n",
    "                            if test_map[x_][y_]==1:\n",
    "                                que.append((x_,y_))\n",
    "                                test_map[x_][y_]=2\n",
    "                else:\n",
    "                    count+=1 #육지가 끝났으므로 육지 수 +1\n",
    "                    \n",
    "    print(count)"
   ]
  },
  {
   "cell_type": "code",
   "execution_count": null,
   "metadata": {},
   "outputs": [],
   "source": []
  },
  {
   "cell_type": "code",
   "execution_count": null,
   "metadata": {},
   "outputs": [],
   "source": []
  }
 ],
 "metadata": {
  "kernelspec": {
   "display_name": "Python 3",
   "language": "python",
   "name": "python3"
  },
  "language_info": {
   "codemirror_mode": {
    "name": "ipython",
    "version": 3
   },
   "file_extension": ".py",
   "mimetype": "text/x-python",
   "name": "python",
   "nbconvert_exporter": "python",
   "pygments_lexer": "ipython3",
   "version": "3.8.5"
  }
 },
 "nbformat": 4,
 "nbformat_minor": 4
}
