{
 "cells": [
  {
   "cell_type": "markdown",
   "metadata": {},
   "source": [
    "# 다이나믹 프로그래밍\n",
    "\n",
    "다이나믹 프로그래밍은 동적 계획법이라고도 부르며 큰 문제를 작은 문제로 나누어 푸는 문제입니다.  \n",
    "다음과 같은 문제에서 다이나믹 프로그래밍을 사용합니다.  \n",
    "\n",
    "> 최적 부분 구조 (Optimal Substructure)  \n",
    "큰 문제를 작은 문제로 나눌 수 있으며 작은 문제로 나눌 수 있으며 작은 문제의 답을 모아서 큰 문제를 해결할 수 있습니다.  \n",
    "\n",
    "> 중복되는 부분 문제 (Overlapping Subproblem)  \n",
    "동일한 작은 문제를 반복적으로 해결해야 합니다.  "
   ]
  },
  {
   "cell_type": "markdown",
   "metadata": {},
   "source": [
    "## 메모이제이션 (Memoization)  \n",
    "    \n",
    "메모이제이션은 한 번 계산한 결과를 메모리 공간에 메모(캐싱)하는 기법입니다.  \n",
    "같은 문제를 다시 호출하면 메모한 결과값을 가져옵니다.  \n",
    "\n",
    "## 탑다운과 보텀업\n",
    "\n",
    "탑다운은 하향식, 보텀업은 하향식 방법입니다.  \n",
    "메모이제이션은 탑다운 방식에서 사용됩니다.  \n",
    "결과 저장용 리스트는 DP 테이블이라고 합니다.  "
   ]
  },
  {
   "cell_type": "markdown",
   "metadata": {},
   "source": [
    "# 11726번 2×n 타일링\n",
    "\n",
    "<https://www.acmicpc.net/problem/11726>  \n",
    "\n",
    "문제는 2Xn 타일을 1X2와 2X1 타일로 채우는 방법의 수를 구하는 문제입니다.  \n",
    "\n",
    "DP 문제이기 때문에 아마도 점화식을 이용한 풀이가 더 적절할 것 같습니다.  "
   ]
  },
  {
   "cell_type": "markdown",
   "metadata": {},
   "source": [
    "## 점화식을 통한 풀이\n",
    "\n",
    "n=3일 때, 경우의 수는 n=1일 때 + n=2일 때와 같습니다.  \n",
    "\n",
    "즉, 길이가 n인 경우 n-1일 때 뒤에 1X2 하나를 더 붙이거나, n-2일 때 2X1 두 개를 더 붙이는 경우의 합이 n일 때 경우의 수가 됩니다.  \n",
    "따라서 dp를 만들어서 결과값들을 순서대로 저장하고 n-1번째와 n-2번째의 합을 계속 구해준다면 n번째의 합이 나오게 됩니다.  "
   ]
  },
  {
   "cell_type": "code",
   "execution_count": 26,
   "metadata": {},
   "outputs": [
    {
     "name": "stdout",
     "output_type": "stream",
     "text": [
      "9\n",
      "55\n"
     ]
    }
   ],
   "source": [
    "x = int(input())\n",
    "\n",
    "dp = [0 for _ in range(x+1)]\n",
    "\n",
    "if x < 3: # 3미만에서의 결과는 x 그대로 입니다.\n",
    "    print(x)\n",
    "else:\n",
    "    dp[1] = 1 # 점화식을 위한 첫번째 두번째 값\n",
    "    dp[2] = 2\n",
    "    for i in range(3, x+1): # 점화식 시작\n",
    "        dp[i] = dp[i-1] + dp[i-2]\n",
    "\n",
    "    print(dp[x] % 10007)"
   ]
  },
  {
   "cell_type": "markdown",
   "metadata": {},
   "source": [
    "## 팩토리얼을 통한 풀이  \n",
    "\n",
    "2X1 타일은 홀수개를 이용할 수는 없으므로 가로 길이/2의 몫이 최대 2X1 타일의 개수일 것입니다.  \n",
    "1X2 타일은 전체 길이에서 2X!타일의 개수를 뺀 값이 됩니다.  \n",
    "따라서 모든 경우를 반복문으로 돌려서 리스트에 저장할 수 있습니다.  \n",
    "\n",
    "예전 순열과 조합 부분을 기억해보면 물건 a,b가 각각 n개, m개 있을 때 경우의 수는 (n+m)!/(n!*m!)입니다.  \n",
    "따라서 팩토리얼을 구해주는 방식만 안다면 쉽게 해결할 수 있습니다.  \n",
    "파이썬에서 팩토리얼을 구하는 방식에 반복문, 재귀, math library가 있습니다.  \n",
    " \n",
    "한가지 주의할 점은 (n+m)!/(n!*m!)를 (n+m)!//(n!*m!)로 바꿔주지 않으면 실수와 정수가 달라서 답이 틀립니다.  \n",
    "또한 재귀 함수를 이용한다면 RecrusionError가 발생할 수 있으므로 sys.setrecursionlimit()을 통해 재귀 깊이를 제한할 수 있습니다.  "
   ]
  },
  {
   "cell_type": "code",
   "execution_count": 23,
   "metadata": {
    "scrolled": true
   },
   "outputs": [
    {
     "name": "stdout",
     "output_type": "stream",
     "text": [
      "9\n",
      "55\n"
     ]
    }
   ],
   "source": [
    "n=int(input()) #직사각형의 가로 길이\n",
    "\n",
    "a=1 # 1X2 타일 사용\n",
    "b=2 # 2X1 타일 사용 -> 하나만 사용할 수는 없으므로 2개를 한 묶음으로 생각한다.  \n",
    "\n",
    "dp=[]\n",
    "\n",
    "for num_b in range((n//2)+1): #이용 가능한 2X1 타일의 개수\n",
    "    num_a=n-num_b*2 #이용 가능한 1X2 타일의 개수\n",
    "    dp.append((num_a,num_b)) # 두 타일로 만들 수 있는 조합의 개수\n",
    "\n",
    "result=0\n",
    "\n",
    "while len(dp)!=0: # 경우의 수가 없을 때까지\n",
    "    n_a,n_b=dp.pop() # 각 경우의 수 pop\n",
    "    fact_total=1 #factorial은 1부터 시작\n",
    "    for i in range(1,n_a+n_b+1): # 분자 factorial\n",
    "        fact_total*=i\n",
    "    fact_a=1\n",
    "    fact_b=1\n",
    "    for i in range(1,n_a+1): # 분모 factorial\n",
    "        fact_a*=i\n",
    "    for i in range(1,n_b+1):\n",
    "        fact_b*=i\n",
    "    result=result+(fact_total//(fact_a*fact_b))\n",
    "    \n",
    "print(int(result)%10007)"
   ]
  }
 ],
 "metadata": {
  "kernelspec": {
   "display_name": "Python 3",
   "language": "python",
   "name": "python3"
  },
  "language_info": {
   "codemirror_mode": {
    "name": "ipython",
    "version": 3
   },
   "file_extension": ".py",
   "mimetype": "text/x-python",
   "name": "python",
   "nbconvert_exporter": "python",
   "pygments_lexer": "ipython3",
   "version": "3.8.5"
  }
 },
 "nbformat": 4,
 "nbformat_minor": 4
}
